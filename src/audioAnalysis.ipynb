{
 "cells": [
  {
   "metadata": {},
   "cell_type": "markdown",
   "source": "# Análise de Áudio",
   "id": "1758c00d6a595742"
  },
  {
   "cell_type": "code",
   "id": "initial_id",
   "metadata": {
    "collapsed": true,
    "ExecuteTime": {
     "end_time": "2024-11-13T11:03:37.555238Z",
     "start_time": "2024-11-13T11:03:37.548470Z"
    }
   },
   "source": [
    "import matplotlib.pyplot as plt\n",
    "from scipy.io import wavfile\n",
    "from scipy.fftpack import fft\n",
    "from matplotlib.backends.backend_pdf import PdfPages\n",
    "import numpy as np\n",
    "\n",
    "def audio_analysis(audio_path, pdf_path):\n",
    "    sampling_rate, data = wavfile.read(audio_path)\n",
    "\n",
    "    if data.ndim > 1:\n",
    "        data = data[:, 0]\n",
    "\n",
    "    data = data[0: 10* sampling_rate]\n",
    "    data = data / 2 ** 15\n",
    "\n",
    "    duration = len(data) / sampling_rate\n",
    "    time = np.linspace(0., duration, len(data))\n",
    "\n",
    "    fft_values = fft(data)\n",
    "    fft_magnitude = np.abs(fft_values)\n",
    "    frequencies = np.fft.fftfreq(len(data), 1 / sampling_rate)\n",
    "\n",
    "    with PdfPages(pdf_path) as pdf:\n",
    "        plt.figure(figsize=(12, 6))\n",
    "        plt.plot(time, data)\n",
    "        plt.title('Sinal no Domínio do Tempo')\n",
    "        plt.xlabel('Tempo [s]')\n",
    "        plt.ylabel('Amplitude')\n",
    "        pdf.savefig()\n",
    "        plt.close()\n",
    "\n",
    "        plt.figure(figsize=(12, 6))\n",
    "        plt.plot(frequencies[:len(frequencies) // 2], fft_magnitude[:len(frequencies) // 2])\n",
    "        plt.title('Sinal no Domínio da Frequência')\n",
    "        plt.xlabel('Frequência [Hz]')\n",
    "        plt.ylabel('Magnitude')\n",
    "        pdf.savefig()\n",
    "        plt.close()\n",
    "\n",
    "    print(f'Report saved in: {pdf_path}')"
   ],
   "outputs": [],
   "execution_count": 5
  },
  {
   "metadata": {},
   "cell_type": "markdown",
   "source": "# Exportando o relatório para um arquivo PDF",
   "id": "b6fd881564ef5018"
  },
  {
   "metadata": {
    "ExecuteTime": {
     "end_time": "2024-11-13T11:03:37.750988Z",
     "start_time": "2024-11-13T11:03:37.559245Z"
    }
   },
   "cell_type": "code",
   "source": [
    "\n",
    "\n",
    "audio_path = '../audio/audio.wav'\n",
    "pdf_path = '../results/relatorio_audio.pdf'\n",
    "audio_analysis(audio_path, pdf_path)\n"
   ],
   "id": "b5f975bb885031ec",
   "outputs": [
    {
     "name": "stdout",
     "output_type": "stream",
     "text": [
      "Report saved in: ../results/relatorio_audio.pdf\n"
     ]
    }
   ],
   "execution_count": 6
  }
 ],
 "metadata": {
  "kernelspec": {
   "display_name": "Python 3",
   "language": "python",
   "name": "python3"
  },
  "language_info": {
   "codemirror_mode": {
    "name": "ipython",
    "version": 2
   },
   "file_extension": ".py",
   "mimetype": "text/x-python",
   "name": "python",
   "nbconvert_exporter": "python",
   "pygments_lexer": "ipython2",
   "version": "2.7.6"
  }
 },
 "nbformat": 4,
 "nbformat_minor": 5
}
